{
 "cells": [
  {
   "cell_type": "code",
   "execution_count": null,
   "metadata": {},
   "outputs": [],
   "source": [
    "num_data = 1000\n",
    "\n",
    "params_list = [[2.2,2.2,4.4] for _ in range(num_data)]\n",
    "z_list = [[0.4, 0.1] for _ in range(num_data)]\n",
    "res_list=[np.zeros(2) for _ in range(num_data)]\n",
    "\n",
    "nthreads = TPB\n",
    "nblocks = 1\n",
    "\n",
    "params = cuda.to_device(params_list[0])\n",
    "z = cuda.to_device(z_list[0])\n",
    "res = cuda.to_device(res_list[0])\n",
    "\n",
    "%timeit cuda_2f1[nblocks, nthreads](params, z, res)"
   ]
  }
 ],
 "metadata": {
  "kernelspec": {
   "display_name": "Python 3",
   "language": "python",
   "name": "python3"
  },
  "language_info": {
   "name": "python",
   "version": "3.11.9"
  }
 },
 "nbformat": 4,
 "nbformat_minor": 2
}
